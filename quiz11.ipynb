{
 "cells": [
  {
   "cell_type": "code",
   "execution_count": 23,
   "metadata": {},
   "outputs": [],
   "source": [
    "import numpy as np\n",
    "import matplotlib.pyplot as plt\n",
    "from scipy.optimize import fsolve"
   ]
  },
  {
   "cell_type": "code",
   "execution_count": 42,
   "metadata": {},
   "outputs": [],
   "source": [
    "def alpha(alpha_ab, alpha_star, r, x_a):\n",
    "    \"\"\"\n",
    "    Iterative solve of implicit function for seperation factor, alpha for membrane seperation\n",
    "    \n",
    "    Parameters:\n",
    "    - alpha_current: current estimate of alpha\n",
    "    - alpha_star: initial or guessed value of alpha* (constant in the equation)\n",
    "    - x_A: mole fraction of component A\n",
    "    - r: relative flow rate or any other constant in the denominator\n",
    "\n",
    "    Returns:\n",
    "    - Next value of alpha\n",
    "\n",
    "    \"\"\"\n",
    "    numerator = x_a * (alpha_ab - 1) + 1 - r * alpha_ab\n",
    "    denominator = x_a * (alpha_ab - 1) + 1 - r\n",
    "    return alpha_ab - alpha_star * (numerator / denominator)\n"
   ]
  },
  {
   "cell_type": "code",
   "execution_count": 43,
   "metadata": {},
   "outputs": [],
   "source": [
    "# given\n",
    "alpha_star = 3.47\n",
    "x_a = 0.5\n",
    "r = 0.5 / 1"
   ]
  },
  {
   "cell_type": "code",
   "execution_count": 44,
   "metadata": {},
   "outputs": [
    {
     "name": "stdout",
     "output_type": "stream",
     "text": [
      "[1.8627936]\n"
     ]
    }
   ],
   "source": [
    "alpha_ab_guess = 10\n",
    "\n",
    "print(fsolve(alpha, alpha_ab_guess, args=(alpha_star, x_a, r)))"
   ]
  },
  {
   "cell_type": "code",
   "execution_count": null,
   "metadata": {},
   "outputs": [],
   "source": []
  },
  {
   "cell_type": "code",
   "execution_count": null,
   "metadata": {},
   "outputs": [],
   "source": []
  }
 ],
 "metadata": {
  "kernelspec": {
   "display_name": "Python 3",
   "language": "python",
   "name": "python3"
  },
  "language_info": {
   "codemirror_mode": {
    "name": "ipython",
    "version": 3
   },
   "file_extension": ".py",
   "mimetype": "text/x-python",
   "name": "python",
   "nbconvert_exporter": "python",
   "pygments_lexer": "ipython3",
   "version": "3.12.4"
  }
 },
 "nbformat": 4,
 "nbformat_minor": 2
}
